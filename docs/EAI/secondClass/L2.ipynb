{
 "cells": [
  {
   "cell_type": "code",
   "execution_count": 1,
   "id": "01de7708",
   "metadata": {},
   "outputs": [],
   "source": [
    "import numpy as np"
   ]
  },
  {
   "cell_type": "code",
   "execution_count": null,
   "id": "17e9984d",
   "metadata": {},
   "outputs": [
    {
     "name": "stdout",
     "output_type": "stream",
     "text": [
      "[[1 2 3]\n",
      " [4 5 6]]\n",
      "(2, 3)\n",
      "int32\n",
      "2\n",
      "6\n",
      "  C_CONTIGUOUS : True\n",
      "  F_CONTIGUOUS : False\n",
      "  OWNDATA : True\n",
      "  WRITEABLE : True\n",
      "  ALIGNED : True\n",
      "  WRITEBACKIFCOPY : False\n",
      "  UPDATEIFCOPY : False\n",
      "\n",
      "4\n",
      "(12, 4)\n",
      "<class 'numpy.int32'>\n",
      "<class 'int'>\n"
     ]
    }
   ],
   "source": [
    "# NumPy 数组的基本属性\n",
    "\n",
    "SampleNdarray = np.array([[1, 2, 3], [4, 5, 6]])\n",
    "print(SampleNdarray)\n",
    "print(SampleNdarray.shape)\n",
    "print(SampleNdarray.dtype)\n",
    "print(SampleNdarray.ndim)\n",
    "print(SampleNdarray.size)\n",
    "print(SampleNdarray.flags)\n",
    "print(SampleNdarray.itemsize)\n",
    "print(SampleNdarray.strides)\n",
    "\n",
    "# 与 Python 数据类型的区别\n",
    "print(type(SampleNdarray[0, 0]))\n",
    "print(type(0))"
   ]
  },
  {
   "cell_type": "code",
   "execution_count": null,
   "id": "ca0a3a80",
   "metadata": {},
   "outputs": [
    {
     "name": "stdout",
     "output_type": "stream",
     "text": [
      "索引和切片\n",
      "[1 2 3] \n",
      "\n",
      "1 \n",
      "\n",
      "[1 2 3] \n",
      "\n",
      "[1 4] \n",
      "\n",
      "[[1 2]\n",
      " [4 5]] \n",
      "\n",
      "[[1 3]\n",
      " [4 6]]\n",
      "高级索引\n",
      "[2 6] \n",
      "\n"
     ]
    },
    {
     "data": {
      "text/plain": [
       "<function print>"
      ]
     },
     "execution_count": 10,
     "metadata": {},
     "output_type": "execute_result"
    }
   ],
   "source": [
    "# 索引和切片\n",
    "print(\"索引和切片\")\n",
    "print(SampleNdarray[0], \"\\n\")\n",
    "print(SampleNdarray[0, 0], \"\\n\")\n",
    "print(SampleNdarray[0, :], \"\\n\")\n",
    "print(SampleNdarray[:, 0], \"\\n\")\n",
    "print(SampleNdarray[0:2, 0:2], \"\\n\")\n",
    "print(SampleNdarray[:, 0::2], \"\\n\")\n",
    "\n",
    "# 高级索引\n",
    "print(\"高级索引\")\n",
    "print(SampleNdarray[[0, 1], [1, 2]], \"\\n\")\n",
    "print()\n"
   ]
  },
  {
   "cell_type": "code",
   "execution_count": null,
   "id": "f491c5ef",
   "metadata": {},
   "outputs": [],
   "source": []
  }
 ],
 "metadata": {
  "kernelspec": {
   "display_name": "d2l",
   "language": "python",
   "name": "python3"
  },
  "language_info": {
   "codemirror_mode": {
    "name": "ipython",
    "version": 3
   },
   "file_extension": ".py",
   "mimetype": "text/x-python",
   "name": "python",
   "nbconvert_exporter": "python",
   "pygments_lexer": "ipython3",
   "version": "3.9.23"
  }
 },
 "nbformat": 4,
 "nbformat_minor": 5
}

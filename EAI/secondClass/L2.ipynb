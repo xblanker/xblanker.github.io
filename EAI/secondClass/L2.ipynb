{
 "cells": [
  {
   "cell_type": "code",
   "execution_count": 14,
   "id": "01de7708",
   "metadata": {},
   "outputs": [],
   "source": [
    "import numpy as np\n",
    "import time\n",
    "\n",
    "# 计时器\n",
    "class Timer():\n",
    "    def __init__(self):\n",
    "        self.start_time = None\n",
    "        self.end_time = None\n",
    "\n",
    "    def start(self):\n",
    "        self.start_time = time.perf_counter()\n",
    "\n",
    "    def stop(self):\n",
    "        self.end_time = time.perf_counter()\n",
    "\n",
    "    def elapsed(self):\n",
    "        if self.start_time is not None and self.end_time is not None:\n",
    "            return self.end_time - self.start_time\n",
    "        else:\n",
    "            return None"
   ]
  },
  {
   "cell_type": "code",
   "execution_count": 4,
   "id": "17e9984d",
   "metadata": {},
   "outputs": [
    {
     "name": "stdout",
     "output_type": "stream",
     "text": [
      "[[1 2 3]\n",
      " [4 5 6]]\n",
      "(2, 3)\n",
      "int32\n",
      "2\n",
      "6\n",
      "  C_CONTIGUOUS : True\n",
      "  F_CONTIGUOUS : False\n",
      "  OWNDATA : True\n",
      "  WRITEABLE : True\n",
      "  ALIGNED : True\n",
      "  WRITEBACKIFCOPY : False\n",
      "  UPDATEIFCOPY : False\n",
      "\n",
      "<numpy.flatiter object at 0x00000182A19D1BA0>\n",
      "1\n",
      "2\n",
      "3\n",
      "4\n",
      "5\n",
      "6\n",
      "4\n",
      "(12, 4)\n",
      "<class 'numpy.int32'>\n",
      "<class 'int'>\n"
     ]
    }
   ],
   "source": [
    "# NumPy 数组的基本属性\n",
    "\n",
    "SampleNdarray = np.array([[1, 2, 3], [4, 5, 6]])\n",
    "print(SampleNdarray)\n",
    "print(SampleNdarray.shape)\n",
    "print(SampleNdarray.dtype)\n",
    "print(SampleNdarray.ndim)\n",
    "print(SampleNdarray.size)\n",
    "print(SampleNdarray.flags)\n",
    "print(SampleNdarray.flat)\n",
    "for item in SampleNdarray.flat:\n",
    "    print(item)\n",
    "print(SampleNdarray.itemsize)\n",
    "print(SampleNdarray.strides)\n",
    "\n",
    "# 与 Python 数据类型的区别\n",
    "print(type(SampleNdarray[0, 0]))\n",
    "print(type(0))"
   ]
  },
  {
   "cell_type": "code",
   "execution_count": null,
   "id": "ca0a3a80",
   "metadata": {},
   "outputs": [
    {
     "name": "stdout",
     "output_type": "stream",
     "text": [
      "索引和切片\n",
      "[1 2 3] \n",
      "\n",
      "1 \n",
      "\n",
      "[1 2 3] \n",
      "\n",
      "[1 4] \n",
      "\n",
      "[[1 2]\n",
      " [4 5]] \n",
      "\n",
      "[[1 3]\n",
      " [4 6]]\n",
      "高级索引\n",
      "[2 6] \n",
      "\n"
     ]
    },
    {
     "data": {
      "text/plain": [
       "<function print>"
      ]
     },
     "execution_count": 10,
     "metadata": {},
     "output_type": "execute_result"
    }
   ],
   "source": [
    "# 索引和切片\n",
    "print(\"索引和切片\")\n",
    "print(SampleNdarray[0], \"\\n\")\n",
    "print(SampleNdarray[0, 0], \"\\n\")\n",
    "print(SampleNdarray[0, :], \"\\n\")\n",
    "print(SampleNdarray[:, 0], \"\\n\")\n",
    "print(SampleNdarray[0:2, 0:2], \"\\n\")\n",
    "print(SampleNdarray[:, 0::2], \"\\n\")\n",
    "\n",
    "# 高级索引\n",
    "print(\"高级索引\")\n",
    "print(SampleNdarray[[0, 1], [1, 2]], \"\\n\")\n",
    "print()\n"
   ]
  },
  {
   "cell_type": "code",
   "execution_count": 9,
   "id": "f491c5ef",
   "metadata": {},
   "outputs": [],
   "source": [
    "a = np.array([[1, 2, 3],            \n",
    "              [4, 5, 6],\n",
    "              [7, 8, 9]])\n",
    "\n",
    "b = np.array([[10, 11, 12],\n",
    "              [13, 14, 15],\n",
    "              [16, 17, 18]])"
   ]
  },
  {
   "cell_type": "code",
   "execution_count": 15,
   "id": "2387e19b",
   "metadata": {},
   "outputs": [
    {
     "name": "stdout",
     "output_type": "stream",
     "text": [
      "6.230000008144998e-05\n",
      "[[1 2 3]\n",
      " [4 5 6]\n",
      " [7 8 9]]\n",
      "[[10 11 12]\n",
      " [13 14 15]\n",
      " [16 17 18]]\n",
      "8.100000013655517e-05\n"
     ]
    }
   ],
   "source": [
    "Timer = Timer()\n",
    "Timer.start()\n",
    "a.__add__(b)\n",
    "Timer.stop()\n",
    "print(Timer.elapsed())\n",
    "\n",
    "print(a)\n",
    "print(b)\n",
    "\n",
    "Timer.start()\n",
    "a + b\n",
    "Timer.stop()\n",
    "print(Timer.elapsed())"
   ]
  },
  {
   "cell_type": "code",
   "execution_count": null,
   "id": "655d456b",
   "metadata": {},
   "outputs": [
    {
     "name": "stdout",
     "output_type": "stream",
     "text": [
      "9.269999986827315e-05\n",
      "5.989999999655993e-05\n"
     ]
    }
   ],
   "source": [
    "Timer.start()\n",
    "a.__add__(b)\n",
    "Timer.stop()\n",
    "print(Timer.elapsed())\n",
    "\n",
    "Timer.start()\n",
    "a + b\n",
    "Timer.stop()\n",
    "print(Timer.elapsed())"
   ]
  }
 ],
 "metadata": {
  "kernelspec": {
   "display_name": "d2l",
   "language": "python",
   "name": "python3"
  },
  "language_info": {
   "codemirror_mode": {
    "name": "ipython",
    "version": 3
   },
   "file_extension": ".py",
   "mimetype": "text/x-python",
   "name": "python",
   "nbconvert_exporter": "python",
   "pygments_lexer": "ipython3",
   "version": "3.9.23"
  }
 },
 "nbformat": 4,
 "nbformat_minor": 5
}
